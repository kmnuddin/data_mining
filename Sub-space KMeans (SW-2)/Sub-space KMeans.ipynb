{
 "cells": [
  {
   "cell_type": "code",
   "execution_count": 1,
   "metadata": {},
   "outputs": [],
   "source": [
    "import os\n",
    "import numpy as np\n",
    "from scipy.spatial import distance\n",
    "from scipy.stats import entropy\n",
    "from random import gauss, randrange\n",
    "import pickle\n",
    "from itertools import combinations, product"
   ]
  },
  {
   "cell_type": "code",
   "execution_count": 37,
   "metadata": {},
   "outputs": [],
   "source": [
    "def make_dataset(n,m,kmin,kmax):\n",
    "    data = []\n",
    "    data.append([n,m,kmin,kmax])\n",
    "    \n",
    "    for i in range(n):\n",
    "        d = [abs(round(gauss(j+m, kmax), 2)) for j in range(m)]\n",
    "        data.append(d)\n",
    "        \n",
    "    with open('data/test3.dat', 'wb') as file:\n",
    "        pickle.dump(data, file)\n",
    "        \n",
    "        \n",
    "def read_data(path):\n",
    "    data = pickle.load(open(path, 'rb'))\n",
    "    spec = data.pop(0)\n",
    "    \n",
    "    return np.array(data), spec\n",
    "\n",
    "def write_results(results):\n",
    "    \n",
    "    with open('test3.res', 'w') as fp:\n",
    "        fp.write('\\n'.join('{} {}'.format(x[0], round(x[1], 2)) for x in results))"
   ]
  },
  {
   "cell_type": "code",
   "execution_count": 12,
   "metadata": {},
   "outputs": [],
   "source": [
    "class SubSpace_Clustering:\n",
    "    def __init__(self, data, th_entropy):\n",
    "        self.data = data\n",
    "        n,m = self.data.shape\n",
    "        self.variables = np.arange(0, m)\n",
    "        self.sig_var = []\n",
    "        self.th_entropy = th_entropy\n",
    "        self.var_dict = dict()\n",
    "        \n",
    "        for var in self.variables:\n",
    "            data_var = self.data[:, var]\n",
    "            \n",
    "            delta = round((data_var.max() - data_var.min()) * 0.1, 4)\n",
    "            \n",
    "            interim_var = np.arange(0, data_var.max() + delta, delta)\n",
    "            \n",
    "            self.var_dict[var] = interim_var\n",
    "\n",
    "    \n",
    "    def entropy(self, variables):\n",
    "        data = self.data[:, variables]\n",
    "\n",
    "        interim_var = []\n",
    "        for var in variables:\n",
    "            interim_var.append(self.var_dict[var])\n",
    "            \n",
    "        comp = np.zeros((len(variables), ))\n",
    "        grid = []\n",
    "        for p in product(*interim_var):\n",
    "            \n",
    "            count = 0\n",
    "              \n",
    "            for d in data:\n",
    "\n",
    "                if (d > comp).any() and (d <= list(p)).any():\n",
    "                    count += 1\n",
    "                    \n",
    "                \n",
    "                    \n",
    "            \n",
    "            grid.append(count / len(data))\n",
    "            comp = p\n",
    "               \n",
    "        return entropy(grid, base=2)    \n",
    "            \n",
    "        \n",
    "    def apriori(self, variables, set_size=1):\n",
    "        if set_size > 3 or len(variables) == 1:\n",
    "            return self.sig_var\n",
    "        \n",
    "        print('running apriori using {} variables'.format(set_size))\n",
    "        candidates = list(combinations(variables, set_size))\n",
    "        vars = []\n",
    "        for var in candidates:\n",
    "            \n",
    "            e = self.entropy(var)\n",
    "            \n",
    "            if e <= self.th_entropy:\n",
    "                \n",
    "                self.sig_var.append(var)\n",
    "                for v in var:\n",
    "                    if v not in vars:\n",
    "                        vars.append(v)\n",
    "        set_size += 1  \n",
    "        \n",
    "        print('subspace: {}'.format(self.sig_var))\n",
    "        return self.apriori(vars, set_size)\n",
    "    \n",
    "    def fit(self, length=3):\n",
    "        \n",
    "        sig_var = self.apriori(self.variables)\n",
    "        \n",
    "        \n",
    "        return sig_var\n",
    "        \n",
    "    \n",
    "class KMeans:\n",
    "    \n",
    "    def __init__(self, data, K, n_iter=20):\n",
    "        self.data = data\n",
    "        self.K = K\n",
    "        self.n_iter = n_iter\n",
    "        self.n_samples, self.n_features = self.data.shape\n",
    "        self.centroids = np.random.rand(K, self.n_features)\n",
    "        self.clusters = np.zeros((self.n_samples, ), dtype=int)\n",
    "        self.loss = 0\n",
    "    def __distance(self, x, m):\n",
    "        return distance.euclidean(x,m)\n",
    "    \n",
    "    def __assign(self):\n",
    "        loss = []\n",
    "        for i, x in enumerate(self.data):\n",
    "            distances = np.zeros((self.K, ), dtype=np.float64)\n",
    "            for j, m in enumerate(self.centroids):\n",
    "                distances[j] = self.__distance(x, m)\n",
    "            loss.append(np.mean(distances))  \n",
    "            self.clusters[i] = np.argmin(distances)\n",
    "            \n",
    "        self.loss = np.mean(loss)\n",
    "            \n",
    "    def __recompute_centroids(self):\n",
    "        \n",
    "        for k in range(self.K):\n",
    "            k_indexes = np.where(self.clusters == k)[0]\n",
    "            if k_indexes.size == 0:\n",
    "                continue\n",
    "            k_data = self.data[k_indexes]\n",
    "            new_centroid = np.mean(k_data, axis=0)\n",
    "            self.centroids[k] = new_centroid\n",
    "    \n",
    "    def fit(self):\n",
    "        for i in range(self.n_iter):\n",
    "            self.__assign()\n",
    "            self.__recompute_centroids()"
   ]
  },
  {
   "cell_type": "code",
   "execution_count": 4,
   "metadata": {},
   "outputs": [],
   "source": [
    "make_dataset(200, 8, 5, 10)"
   ]
  },
  {
   "cell_type": "code",
   "execution_count": 27,
   "metadata": {},
   "outputs": [],
   "source": [
    "data, spec = read_data('data/test3.dat')\n",
    "n,m,kmin,kmax = spec"
   ]
  },
  {
   "cell_type": "code",
   "execution_count": 14,
   "metadata": {},
   "outputs": [
    {
     "name": "stdout",
     "output_type": "stream",
     "text": [
      "running apriori using 1 variables\n",
      "subspace: [(0,), (1,), (2,), (3,), (4,), (5,), (6,), (7,)]\n",
      "running apriori using 2 variables\n",
      "subspace: [(0,), (1,), (2,), (3,), (4,), (5,), (6,), (7,), (0, 1), (0, 2), (0, 3), (0, 4), (0, 5), (0, 6), (0, 7), (1, 2), (1, 3), (1, 4), (1, 5), (1, 6), (1, 7), (2, 3), (2, 4), (2, 5), (2, 6), (2, 7), (3, 4), (3, 5), (3, 6), (3, 7), (4, 5), (4, 6), (4, 7), (5, 6), (5, 7), (6, 7)]\n",
      "running apriori using 3 variables\n",
      "subspace: [(0,), (1,), (2,), (3,), (4,), (5,), (6,), (7,), (0, 1), (0, 2), (0, 3), (0, 4), (0, 5), (0, 6), (0, 7), (1, 2), (1, 3), (1, 4), (1, 5), (1, 6), (1, 7), (2, 3), (2, 4), (2, 5), (2, 6), (2, 7), (3, 4), (3, 5), (3, 6), (3, 7), (4, 5), (4, 6), (4, 7), (5, 6), (5, 7), (6, 7)]\n"
     ]
    }
   ],
   "source": [
    "sbc = SubSpace_Clustering(data, 8)\n",
    "subspace = sbc.fit()"
   ]
  },
  {
   "cell_type": "code",
   "execution_count": 28,
   "metadata": {},
   "outputs": [],
   "source": [
    "test = data[:, list(subspace[-1])]"
   ]
  },
  {
   "cell_type": "code",
   "execution_count": 29,
   "metadata": {},
   "outputs": [],
   "source": [
    "results = []\n",
    "for k in range(kmin, kmax + 1):\n",
    "    kmean = KMeans(test, k)\n",
    "    kmean.fit()\n",
    "    results.append((k, kmean.loss))"
   ]
  },
  {
   "cell_type": "code",
   "execution_count": 38,
   "metadata": {
    "scrolled": true
   },
   "outputs": [],
   "source": [
    "write_results(results)"
   ]
  }
 ],
 "metadata": {
  "kernelspec": {
   "display_name": "Python 3",
   "language": "python",
   "name": "python3"
  },
  "language_info": {
   "codemirror_mode": {
    "name": "ipython",
    "version": 3
   },
   "file_extension": ".py",
   "mimetype": "text/x-python",
   "name": "python",
   "nbconvert_exporter": "python",
   "pygments_lexer": "ipython3",
   "version": "3.7.4"
  }
 },
 "nbformat": 4,
 "nbformat_minor": 2
}
