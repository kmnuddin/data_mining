{
 "cells": [
  {
   "cell_type": "code",
   "execution_count": 1,
   "metadata": {},
   "outputs": [],
   "source": [
    "import pandas as pd\n",
    "import numpy as np\n",
    "import os\n",
    "from tqdm.notebook import tqdm\n",
    "import sys"
   ]
  },
  {
   "cell_type": "code",
   "execution_count": 2,
   "metadata": {},
   "outputs": [],
   "source": [
    "class Node():\n",
    "    def __init__(self, name, support):\n",
    "        self.name = name\n",
    "        self.childs = []\n",
    "        self.support = support\n",
    "        \n",
    "    def add(self, child):\n",
    "        self.childs.append(child)\n",
    "        \n",
    "        \n",
    "class FP_tree():\n",
    "    \n",
    "    def __init__(self, data, items, support):\n",
    "        self.data = data\n",
    "        self.transformed_data = data\n",
    "        self.support = support\n",
    "        self.freq_dict = dict()\n",
    "        self.items = items\n",
    "        self.root = Node(None, -1)\n",
    "        self.conditional_trees = dict()\n",
    "        self.itemsets = dict()\n",
    "        self.freq_itemsets = []\n",
    "        \n",
    "        self.__get_freq_of_individual_items()\n",
    "        \n",
    "    def __get_freq_of_individual_items(self):\n",
    "        \n",
    "        for i, item in enumerate(self.items):\n",
    "            temp = self.data[:, i]\n",
    "            freq = len(np.where(temp == 1)[0])\n",
    "            if freq >= self.support:\n",
    "                self.freq_dict[item] = freq\n",
    "                continue\n",
    "                \n",
    "            self.transformed_data[:,i] = 0\n",
    "            \n",
    "        self.freq_dict = {k: v for k, v in sorted(self.freq_dict.items(), key=lambda item: item[1])}   \n",
    "        self.transformed_data = self.transformed_data[~np.all(self.transformed_data == 0, axis=1)]\n",
    "            \n",
    "    def __add_nodes(self, node, t, i=0):\n",
    "        \n",
    "        if i == len(t):\n",
    "            return\n",
    "        name = self.items[t[i]]\n",
    "        child_node = Node(name, 1)\n",
    "#         print(\"parent_node: \", node.name, \"child_node: \", child_node.name)\n",
    "        node.add(child_node)\n",
    "        node.support += 1\n",
    "        self.__add_nodes(child_node, t, i+1)\n",
    "        \n",
    "        \n",
    "    def construct_tree(self):\n",
    "        \n",
    "        for data in tqdm(self.transformed_data):\n",
    "            \n",
    "            t = np.where(data == 1)[0]\n",
    "            node = self.__check_for_existing_branch(self.root, t)\n",
    "            if node.name is None:\n",
    "                self.__add_nodes(node, t)\n",
    "            \n",
    "            elif node.name != self.items[t[-1]]:\n",
    "                item_index = np.where(self.items == node.name)[0][0]\n",
    "                \n",
    "                i = np.where(t == item_index)[0][0]\n",
    "                \n",
    "                self.__add_nodes(node, t, i + 1)\n",
    "            \n",
    "        return self.root\n",
    "            \n",
    "    \n",
    "    def __check_for_existing_branch(self, node, t, i=0):\n",
    "        if not node.childs or i == len(t):\n",
    "            return node\n",
    "        \n",
    "        childs = [child.name for child in node.childs]\n",
    "        \n",
    "        item = self.items[t[i]]\n",
    "        \n",
    "        if item not in childs:\n",
    "            return node\n",
    "        \n",
    "        next_node = next((child for child in node.childs if child.name == item), None)\n",
    "        next_node.support += 1\n",
    "        return self.__check_for_existing_branch(next_node, t, i+1)\n",
    "    \n",
    "    def __find_node_path(self, item, node, path = []):\n",
    "        if node.name == item:\n",
    "            return node\n",
    "        \n",
    "        if not node.childs:\n",
    "            return None\n",
    "        \n",
    "        next_node = next((child for child in node.childs if child.name == item), None)\n",
    "        \n",
    "        path.append(node)\n",
    "        if not next_node:\n",
    "            \n",
    "            for child in node.childs:\n",
    "                return self.__find_node_path(item, child, path)\n",
    "        else:\n",
    "                \n",
    "            path.append(next_node)\n",
    "            \n",
    "            return path\n",
    "        \n",
    "    \n",
    "    def construct_conditional_FP_trees(self):\n",
    "        \n",
    "        for item in self.freq_dict:\n",
    "            paths = []\n",
    "            for child in self.root.childs: \n",
    "                path = self.__find_node_path(item, child, [])\n",
    "                if path:\n",
    "                    if isinstance(path, list):\n",
    "                        support = path[-1].support\n",
    "                    else:\n",
    "                        support = path.support\n",
    "                    paths.append((support, path))\n",
    "                    \n",
    "            self.conditional_trees[item] = paths\n",
    "            \n",
    "            items = []\n",
    "            for support, path in paths:\n",
    "                if isinstance(path, list):\n",
    "                    l = [p.name for p in path]\n",
    "                    items.append((support, l))\n",
    "                    continue\n",
    "                items.append((support, path.name))\n",
    "                \n",
    "                \n",
    "            self.itemsets[item] = items\n",
    "                \n",
    "        return self.conditional_trees, self.get_frequent_itemsets()\n",
    "    \n",
    "    def get_frequent_itemsets(self):\n",
    "        \n",
    "        for item in self.itemsets:\n",
    "            itemset = self.itemsets[item]\n",
    "            \n",
    "            for pitem in itemset:\n",
    "                support = pitem[0]\n",
    "                if support >= self.support:\n",
    "                    self.freq_itemsets.append(pitem)\n",
    "                    \n",
    "        return self.freq_itemsets\n",
    "        "
   ]
  },
  {
   "cell_type": "markdown",
   "metadata": {},
   "source": [
    "#### Utils"
   ]
  },
  {
   "cell_type": "code",
   "execution_count": 13,
   "metadata": {},
   "outputs": [],
   "source": [
    "def load(path, dtype=int):\n",
    "    file = open(path, 'r')\n",
    "    data = [[dtype(x) for x in line.split()] for line in file]\n",
    "    \n",
    "    file.close()\n",
    "    \n",
    "    return data\n",
    "\n",
    "def one_hot_encode(data, length):\n",
    "    no_of_transaction = len(data)\n",
    "    \n",
    "    one_hot_encode = np.zeros((no_of_transaction, length), dtype=np.uint8)\n",
    "    \n",
    "    for i,row in enumerate(data):\n",
    "        for index in row:\n",
    "            one_hot_encode[i, index] = 1\n",
    "    return one_hot_encode\n",
    "\n",
    "def write(freq_itemsets, topic):\n",
    "    dir = 'results'\n",
    "    save_path = os.path.join(dir, \"PATTERN-{}.txt\".format(topic))\n",
    "    with open(save_path, 'w') as f:\n",
    "        for item in freq_itemsets:\n",
    "            support = item[0]\n",
    "            result = str(support)\n",
    "            if isinstance(item[1], list):\n",
    "                for i in item:\n",
    "                    result = result + ' ' + i\n",
    "                    \n",
    "            else:\n",
    "                result = result + ' ' + item[1]\n",
    "            f.write(\"%s\\n\" % result)"
   ]
  },
  {
   "cell_type": "code",
   "execution_count": 3,
   "metadata": {},
   "outputs": [],
   "source": [
    "vocabs = np.array(load('data/vocab.txt', str))\n",
    "length = vocabs.shape[0]\n",
    "topic_0 = one_hot_encode(load('data/topic-0.txt'), length)\n",
    "topic_1 = one_hot_encode(load('data/topic-1.txt'), length)\n",
    "topic_2 = one_hot_encode(load('data/topic-2.txt'), length)\n",
    "topic_3 = one_hot_encode(load('data/topic-3.txt'), length)\n",
    "topic_4 = one_hot_encode(load('data/topic-4.txt'), length)"
   ]
  },
  {
   "cell_type": "code",
   "execution_count": 4,
   "metadata": {
    "scrolled": true
   },
   "outputs": [],
   "source": [
    "fp_tree0 = FP_tree(topic_0, vocabs[:,1], 400)\n",
    "fp_tree1 = FP_tree(topic_1, vocabs[:,1], 400)\n",
    "fp_tree2 = FP_tree(topic_2, vocabs[:,1], 400)\n",
    "fp_tree3 = FP_tree(topic_3, vocabs[:,1], 400)\n",
    "fp_tree4 = FP_tree(topic_4, vocabs[:,1], 400)"
   ]
  },
  {
   "cell_type": "code",
   "execution_count": 5,
   "metadata": {},
   "outputs": [
    {
     "data": {
      "application/vnd.jupyter.widget-view+json": {
       "model_id": "4418ee40fbce4e468912033f86c33666",
       "version_major": 2,
       "version_minor": 0
      },
      "text/plain": [
       "HBox(children=(FloatProgress(value=0.0, max=4885.0), HTML(value='')))"
      ]
     },
     "metadata": {},
     "output_type": "display_data"
    },
    {
     "name": "stdout",
     "output_type": "stream",
     "text": [
      "\n"
     ]
    },
    {
     "data": {
      "application/vnd.jupyter.widget-view+json": {
       "model_id": "b479a95124ed4a3683ef1702e34b70d1",
       "version_major": 2,
       "version_minor": 0
      },
      "text/plain": [
       "HBox(children=(FloatProgress(value=0.0, max=4614.0), HTML(value='')))"
      ]
     },
     "metadata": {},
     "output_type": "display_data"
    },
    {
     "name": "stdout",
     "output_type": "stream",
     "text": [
      "\n"
     ]
    },
    {
     "data": {
      "application/vnd.jupyter.widget-view+json": {
       "model_id": "9f433e2b3c9b4d5c98a3077ced04a0a9",
       "version_major": 2,
       "version_minor": 0
      },
      "text/plain": [
       "HBox(children=(FloatProgress(value=0.0, max=5298.0), HTML(value='')))"
      ]
     },
     "metadata": {},
     "output_type": "display_data"
    },
    {
     "name": "stdout",
     "output_type": "stream",
     "text": [
      "\n"
     ]
    },
    {
     "data": {
      "application/vnd.jupyter.widget-view+json": {
       "model_id": "ec1a338abdc04d4b82ae3ee63f874332",
       "version_major": 2,
       "version_minor": 0
      },
      "text/plain": [
       "HBox(children=(FloatProgress(value=0.0, max=4520.0), HTML(value='')))"
      ]
     },
     "metadata": {},
     "output_type": "display_data"
    },
    {
     "name": "stdout",
     "output_type": "stream",
     "text": [
      "\n"
     ]
    },
    {
     "data": {
      "application/vnd.jupyter.widget-view+json": {
       "model_id": "5487c26700f74b7c9138f1c796b70600",
       "version_major": 2,
       "version_minor": 0
      },
      "text/plain": [
       "HBox(children=(FloatProgress(value=0.0, max=5032.0), HTML(value='')))"
      ]
     },
     "metadata": {},
     "output_type": "display_data"
    },
    {
     "name": "stdout",
     "output_type": "stream",
     "text": [
      "\n"
     ]
    }
   ],
   "source": [
    "tree0 = fp_tree0.construct_tree()\n",
    "tree1 = fp_tree1.construct_tree()\n",
    "tree2 = fp_tree2.construct_tree()\n",
    "tree3 = fp_tree3.construct_tree()\n",
    "tree4 = fp_tree4.construct_tree()"
   ]
  },
  {
   "cell_type": "code",
   "execution_count": 6,
   "metadata": {
    "scrolled": false
   },
   "outputs": [],
   "source": [
    "cd_tree0, freq_itemsets0 = fp_tree0.construct_conditional_FP_trees()\n",
    "cd_tree1, freq_itemsets1 = fp_tree1.construct_conditional_FP_trees()\n",
    "cd_tree2, freq_itemsets2 = fp_tree2.construct_conditional_FP_trees()\n",
    "cd_tree3, freq_itemsets3 = fp_tree3.construct_conditional_FP_trees()\n",
    "cd_tree4, freq_itemsets4 = fp_tree4.construct_conditional_FP_trees()"
   ]
  },
  {
   "cell_type": "code",
   "execution_count": 17,
   "metadata": {},
   "outputs": [],
   "source": [
    "write(freq_itemsets0, 0)\n",
    "write(freq_itemsets1, 1)\n",
    "write(freq_itemsets2, 2)\n",
    "write(freq_itemsets3, 3)\n",
    "write(freq_itemsets4, 4)"
   ]
  }
 ],
 "metadata": {
  "kernelspec": {
   "display_name": "Python 3",
   "language": "python",
   "name": "python3"
  },
  "language_info": {
   "codemirror_mode": {
    "name": "ipython",
    "version": 3
   },
   "file_extension": ".py",
   "mimetype": "text/x-python",
   "name": "python",
   "nbconvert_exporter": "python",
   "pygments_lexer": "ipython3",
   "version": "3.7.4"
  }
 },
 "nbformat": 4,
 "nbformat_minor": 2
}
